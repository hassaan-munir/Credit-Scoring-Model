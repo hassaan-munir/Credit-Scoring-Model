{
  "cells": [
    {
      "cell_type": "code",
      "execution_count": 1,
      "metadata": {
        "id": "3POT2ZoQpqci"
      },
      "outputs": [],
      "source": [
        "import pandas as pd"
      ]
    },
    {
      "cell_type": "code",
      "execution_count": 2,
      "metadata": {
        "id": "83yqSRhKqlIK"
      },
      "outputs": [],
      "source": [
        "df = pd.read_csv('credit_risk_dataset.csv')"
      ]
    },
    {
      "cell_type": "code",
      "execution_count": 3,
      "metadata": {
        "colab": {
          "base_uri": "https://localhost:8080/"
        },
        "id": "rfTcANDxrGHx",
        "outputId": "9f076d4e-977e-47bf-df75-8bcdd5c9a332"
      },
      "outputs": [
        {
          "name": "stdout",
          "output_type": "stream",
          "text": [
            "   person_age  person_income person_home_ownership  person_emp_length  \\\n",
            "0          22          59000                  RENT              123.0   \n",
            "1          21           9600                   OWN                5.0   \n",
            "2          25           9600              MORTGAGE                1.0   \n",
            "3          23          65500                  RENT                4.0   \n",
            "4          24          54400                  RENT                8.0   \n",
            "\n",
            "  loan_intent loan_grade  loan_amnt  loan_int_rate  loan_status  \\\n",
            "0    PERSONAL          D      35000          16.02            1   \n",
            "1   EDUCATION          B       1000          11.14            0   \n",
            "2     MEDICAL          C       5500          12.87            1   \n",
            "3     MEDICAL          C      35000          15.23            1   \n",
            "4     MEDICAL          C      35000          14.27            1   \n",
            "\n",
            "   loan_percent_income cb_person_default_on_file  cb_person_cred_hist_length  \n",
            "0                 0.59                         Y                           3  \n",
            "1                 0.10                         N                           2  \n",
            "2                 0.57                         N                           3  \n",
            "3                 0.53                         N                           2  \n",
            "4                 0.55                         Y                           4  \n",
            "<class 'pandas.core.frame.DataFrame'>\n",
            "RangeIndex: 32581 entries, 0 to 32580\n",
            "Data columns (total 12 columns):\n",
            " #   Column                      Non-Null Count  Dtype  \n",
            "---  ------                      --------------  -----  \n",
            " 0   person_age                  32581 non-null  int64  \n",
            " 1   person_income               32581 non-null  int64  \n",
            " 2   person_home_ownership       32581 non-null  object \n",
            " 3   person_emp_length           31686 non-null  float64\n",
            " 4   loan_intent                 32581 non-null  object \n",
            " 5   loan_grade                  32581 non-null  object \n",
            " 6   loan_amnt                   32581 non-null  int64  \n",
            " 7   loan_int_rate               29465 non-null  float64\n",
            " 8   loan_status                 32581 non-null  int64  \n",
            " 9   loan_percent_income         32581 non-null  float64\n",
            " 10  cb_person_default_on_file   32581 non-null  object \n",
            " 11  cb_person_cred_hist_length  32581 non-null  int64  \n",
            "dtypes: float64(3), int64(5), object(4)\n",
            "memory usage: 3.0+ MB\n",
            "None\n",
            "         person_age  person_income  person_emp_length     loan_amnt  \\\n",
            "count  32581.000000   3.258100e+04       31686.000000  32581.000000   \n",
            "mean      27.734600   6.607485e+04           4.789686   9589.371106   \n",
            "std        6.348078   6.198312e+04           4.142630   6322.086646   \n",
            "min       20.000000   4.000000e+03           0.000000    500.000000   \n",
            "25%       23.000000   3.850000e+04           2.000000   5000.000000   \n",
            "50%       26.000000   5.500000e+04           4.000000   8000.000000   \n",
            "75%       30.000000   7.920000e+04           7.000000  12200.000000   \n",
            "max      144.000000   6.000000e+06         123.000000  35000.000000   \n",
            "\n",
            "       loan_int_rate   loan_status  loan_percent_income  \\\n",
            "count   29465.000000  32581.000000         32581.000000   \n",
            "mean       11.011695      0.218164             0.170203   \n",
            "std         3.240459      0.413006             0.106782   \n",
            "min         5.420000      0.000000             0.000000   \n",
            "25%         7.900000      0.000000             0.090000   \n",
            "50%        10.990000      0.000000             0.150000   \n",
            "75%        13.470000      0.000000             0.230000   \n",
            "max        23.220000      1.000000             0.830000   \n",
            "\n",
            "       cb_person_cred_hist_length  \n",
            "count                32581.000000  \n",
            "mean                     5.804211  \n",
            "std                      4.055001  \n",
            "min                      2.000000  \n",
            "25%                      3.000000  \n",
            "50%                      4.000000  \n",
            "75%                      8.000000  \n",
            "max                     30.000000  \n",
            "Index(['person_age', 'person_income', 'person_home_ownership',\n",
            "       'person_emp_length', 'loan_intent', 'loan_grade', 'loan_amnt',\n",
            "       'loan_int_rate', 'loan_status', 'loan_percent_income',\n",
            "       'cb_person_default_on_file', 'cb_person_cred_hist_length'],\n",
            "      dtype='object')\n"
          ]
        }
      ],
      "source": [
        "print(df.head())\n",
        "print(df.info())\n",
        "print(df.describe())\n",
        "print(df.columns)"
      ]
    },
    {
      "cell_type": "code",
      "execution_count": 4,
      "metadata": {
        "colab": {
          "base_uri": "https://localhost:8080/"
        },
        "id": "pztYPTELswuA",
        "outputId": "2f631b47-5db2-4cc4-cb27-4c04832b0e51"
      },
      "outputs": [
        {
          "name": "stdout",
          "output_type": "stream",
          "text": [
            "Number of missing values (before filling):\n",
            "person_age                       0\n",
            "person_income                    0\n",
            "person_home_ownership            0\n",
            "person_emp_length              895\n",
            "loan_intent                      0\n",
            "loan_grade                       0\n",
            "loan_amnt                        0\n",
            "loan_int_rate                 3116\n",
            "loan_status                      0\n",
            "loan_percent_income              0\n",
            "cb_person_default_on_file        0\n",
            "cb_person_cred_hist_length       0\n",
            "dtype: int64\n"
          ]
        }
      ],
      "source": [
        "print(\"Number of missing values (before filling):\")\n",
        "print(df.isnull().sum())"
      ]
    },
    {
      "cell_type": "code",
      "execution_count": 5,
      "metadata": {
        "colab": {
          "base_uri": "https://localhost:8080/"
        },
        "id": "TRAbJKvNs80Y",
        "outputId": "19cb8afb-4417-4252-b11a-e8bbf9868799"
      },
      "outputs": [
        {
          "name": "stdout",
          "output_type": "stream",
          "text": [
            "Missing values after filling:\n",
            "person_age                    0\n",
            "person_income                 0\n",
            "person_home_ownership         0\n",
            "person_emp_length             0\n",
            "loan_intent                   0\n",
            "loan_grade                    0\n",
            "loan_amnt                     0\n",
            "loan_int_rate                 0\n",
            "loan_status                   0\n",
            "loan_percent_income           0\n",
            "cb_person_default_on_file     0\n",
            "cb_person_cred_hist_length    0\n",
            "dtype: int64\n"
          ]
        },
        {
          "name": "stderr",
          "output_type": "stream",
          "text": [
            "C:\\Users\\HASSAAN\\AppData\\Local\\Temp\\ipykernel_2576\\661756520.py:2: FutureWarning: A value is trying to be set on a copy of a DataFrame or Series through chained assignment using an inplace method.\n",
            "The behavior will change in pandas 3.0. This inplace method will never work because the intermediate object on which we are setting values always behaves as a copy.\n",
            "\n",
            "For example, when doing 'df[col].method(value, inplace=True)', try using 'df.method({col: value}, inplace=True)' or df[col] = df[col].method(value) instead, to perform the operation inplace on the original object.\n",
            "\n",
            "\n",
            "  df['person_emp_length'].fillna(df['person_emp_length'].median(), inplace=True)\n",
            "C:\\Users\\HASSAAN\\AppData\\Local\\Temp\\ipykernel_2576\\661756520.py:5: FutureWarning: A value is trying to be set on a copy of a DataFrame or Series through chained assignment using an inplace method.\n",
            "The behavior will change in pandas 3.0. This inplace method will never work because the intermediate object on which we are setting values always behaves as a copy.\n",
            "\n",
            "For example, when doing 'df[col].method(value, inplace=True)', try using 'df.method({col: value}, inplace=True)' or df[col] = df[col].method(value) instead, to perform the operation inplace on the original object.\n",
            "\n",
            "\n",
            "  df['loan_int_rate'].fillna(df['loan_int_rate'].median(), inplace=True)\n"
          ]
        }
      ],
      "source": [
        "# Fill missing values in 'person_emp_length' with the median value of that column\n",
        "df['person_emp_length'].fillna(df['person_emp_length'].median(), inplace=True)\n",
        "\n",
        "# Fill missing values in 'loan_int_rate' with the median value of that column\n",
        "df['loan_int_rate'].fillna(df['loan_int_rate'].median(), inplace=True)\n",
        "\n",
        "print(\"Missing values after filling:\")\n",
        "print(df.isnull().sum()) # Re-checking to confirm no more missing values"
      ]
    },
    {
      "cell_type": "code",
      "execution_count": 7,
      "metadata": {
        "colab": {
          "base_uri": "https://localhost:8080/"
        },
        "id": "mJaiBhGltMDi",
        "outputId": "6b378b8f-0aa4-4d91-f2e4-5af4277fec9f"
      },
      "outputs": [
        {
          "name": "stdout",
          "output_type": "stream",
          "text": [
            "Identified categorical columns:\n",
            "['person_home_ownership', 'loan_intent', 'loan_grade', 'cb_person_default_on_file']\n"
          ]
        }
      ],
      "source": [
        "# Create a list of categorical columns\n",
        "categorical_cols = df.select_dtypes(include='object').columns.tolist()\n",
        "print(\"Identified categorical columns:\")\n",
        "print(categorical_cols)"
      ]
    },
    {
      "cell_type": "code",
      "execution_count": 8,
      "metadata": {
        "colab": {
          "base_uri": "https://localhost:8080/"
        },
        "id": "UOtH4X3GtUoV",
        "outputId": "717a884b-bbbe-4e8f-8a95-f6aaa6975c44"
      },
      "outputs": [
        {
          "name": "stdout",
          "output_type": "stream",
          "text": [
            "\n",
            "DataFrame head after One-Hot Encoding:\n",
            "   person_age  person_income  person_emp_length  loan_amnt  loan_int_rate  \\\n",
            "0          22          59000              123.0      35000          16.02   \n",
            "1          21           9600                5.0       1000          11.14   \n",
            "2          25           9600                1.0       5500          12.87   \n",
            "3          23          65500                4.0      35000          15.23   \n",
            "4          24          54400                8.0      35000          14.27   \n",
            "\n",
            "   loan_status  loan_percent_income  cb_person_cred_hist_length  \\\n",
            "0            1                 0.59                           3   \n",
            "1            0                 0.10                           2   \n",
            "2            1                 0.57                           3   \n",
            "3            1                 0.53                           2   \n",
            "4            1                 0.55                           4   \n",
            "\n",
            "   person_home_ownership_OTHER  person_home_ownership_OWN  ...  \\\n",
            "0                        False                      False  ...   \n",
            "1                        False                       True  ...   \n",
            "2                        False                      False  ...   \n",
            "3                        False                      False  ...   \n",
            "4                        False                      False  ...   \n",
            "\n",
            "   loan_intent_MEDICAL  loan_intent_PERSONAL  loan_intent_VENTURE  \\\n",
            "0                False                  True                False   \n",
            "1                False                 False                False   \n",
            "2                 True                 False                False   \n",
            "3                 True                 False                False   \n",
            "4                 True                 False                False   \n",
            "\n",
            "   loan_grade_B  loan_grade_C  loan_grade_D  loan_grade_E  loan_grade_F  \\\n",
            "0         False         False          True         False         False   \n",
            "1          True         False         False         False         False   \n",
            "2         False          True         False         False         False   \n",
            "3         False          True         False         False         False   \n",
            "4         False          True         False         False         False   \n",
            "\n",
            "   loan_grade_G  cb_person_default_on_file_Y  \n",
            "0         False                         True  \n",
            "1         False                        False  \n",
            "2         False                        False  \n",
            "3         False                        False  \n",
            "4         False                         True  \n",
            "\n",
            "[5 rows x 23 columns]\n",
            "\n",
            "Columns after One-Hot Encoding:\n",
            "Index(['person_age', 'person_income', 'person_emp_length', 'loan_amnt',\n",
            "       'loan_int_rate', 'loan_status', 'loan_percent_income',\n",
            "       'cb_person_cred_hist_length', 'person_home_ownership_OTHER',\n",
            "       'person_home_ownership_OWN', 'person_home_ownership_RENT',\n",
            "       'loan_intent_EDUCATION', 'loan_intent_HOMEIMPROVEMENT',\n",
            "       'loan_intent_MEDICAL', 'loan_intent_PERSONAL', 'loan_intent_VENTURE',\n",
            "       'loan_grade_B', 'loan_grade_C', 'loan_grade_D', 'loan_grade_E',\n",
            "       'loan_grade_F', 'loan_grade_G', 'cb_person_default_on_file_Y'],\n",
            "      dtype='object')\n"
          ]
        }
      ],
      "source": [
        "# Apply One-Hot Encoding\n",
        "# 'drop_first=True' is used to avoid multicollinearity\n",
        "df = pd.get_dummies(df, columns=categorical_cols, drop_first=True)\n",
        "\n",
        "print(\"\\nDataFrame head after One-Hot Encoding:\")\n",
        "print(df.head())\n",
        "\n",
        "print(\"\\nColumns after One-Hot Encoding:\")\n",
        "print(df.columns)"
      ]
    },
    {
      "cell_type": "code",
      "execution_count": 9,
      "metadata": {
        "colab": {
          "base_uri": "https://localhost:8080/"
        },
        "id": "jv_XdV6bv8xI",
        "outputId": "25bc582a-f83f-494b-fad4-f0647b94a62e"
      },
      "outputs": [
        {
          "name": "stdout",
          "output_type": "stream",
          "text": [
            "Features (X) head:\n",
            "   person_age  person_income  person_emp_length  loan_amnt  loan_int_rate  \\\n",
            "0          22          59000              123.0      35000          16.02   \n",
            "1          21           9600                5.0       1000          11.14   \n",
            "2          25           9600                1.0       5500          12.87   \n",
            "3          23          65500                4.0      35000          15.23   \n",
            "4          24          54400                8.0      35000          14.27   \n",
            "\n",
            "   loan_percent_income  cb_person_cred_hist_length  \\\n",
            "0                 0.59                           3   \n",
            "1                 0.10                           2   \n",
            "2                 0.57                           3   \n",
            "3                 0.53                           2   \n",
            "4                 0.55                           4   \n",
            "\n",
            "   person_home_ownership_OTHER  person_home_ownership_OWN  \\\n",
            "0                        False                      False   \n",
            "1                        False                       True   \n",
            "2                        False                      False   \n",
            "3                        False                      False   \n",
            "4                        False                      False   \n",
            "\n",
            "   person_home_ownership_RENT  ...  loan_intent_MEDICAL  loan_intent_PERSONAL  \\\n",
            "0                        True  ...                False                  True   \n",
            "1                       False  ...                False                 False   \n",
            "2                       False  ...                 True                 False   \n",
            "3                        True  ...                 True                 False   \n",
            "4                        True  ...                 True                 False   \n",
            "\n",
            "   loan_intent_VENTURE  loan_grade_B  loan_grade_C  loan_grade_D  \\\n",
            "0                False         False         False          True   \n",
            "1                False          True         False         False   \n",
            "2                False         False          True         False   \n",
            "3                False         False          True         False   \n",
            "4                False         False          True         False   \n",
            "\n",
            "   loan_grade_E  loan_grade_F  loan_grade_G  cb_person_default_on_file_Y  \n",
            "0         False         False         False                         True  \n",
            "1         False         False         False                        False  \n",
            "2         False         False         False                        False  \n",
            "3         False         False         False                        False  \n",
            "4         False         False         False                         True  \n",
            "\n",
            "[5 rows x 22 columns]\n",
            "\n",
            "Target Variable (y) head:\n",
            "0    1\n",
            "1    0\n",
            "2    1\n",
            "3    1\n",
            "4    1\n",
            "Name: loan_status, dtype: int64\n"
          ]
        }
      ],
      "source": [
        "# 'loan_status' is our target variable (y)\n",
        "y = df['loan_status']\n",
        "\n",
        "# All other columns are features (X)\n",
        "X = df.drop('loan_status', axis=1) # Drop 'loan_status' column from X\n",
        "\n",
        "print(\"Features (X) head:\")\n",
        "print(X.head())\n",
        "print(\"\\nTarget Variable (y) head:\")\n",
        "print(y.head())"
      ]
    },
    {
      "cell_type": "code",
      "execution_count": 10,
      "metadata": {
        "colab": {
          "base_uri": "https://localhost:8080/"
        },
        "id": "LdFlyV8FwKU_",
        "outputId": "66c3815f-62ea-4482-f753-e3563c3c0aff"
      },
      "outputs": [
        {
          "name": "stdout",
          "output_type": "stream",
          "text": [
            "X_train shape: (26064, 22)\n",
            "X_test shape: (6517, 22)\n",
            "y_train shape: (26064,)\n",
            "y_test shape: (6517,)\n"
          ]
        }
      ],
      "source": [
        "from sklearn.model_selection import train_test_split\n",
        "\n",
        "# Spliting data into 80% training and 20% testing\n",
        "X_train, X_test, y_train, y_test = train_test_split(X, y, test_size=0.2, random_state=42)\n",
        "\n",
        "print(f\"X_train shape: {X_train.shape}\")\n",
        "print(f\"X_test shape: {X_test.shape}\")\n",
        "print(f\"y_train shape: {y_train.shape}\")\n",
        "print(f\"y_test shape: {y_test.shape}\")"
      ]
    },
    {
      "cell_type": "code",
      "execution_count": 11,
      "metadata": {
        "colab": {
          "base_uri": "https://localhost:8080/"
        },
        "id": "ujushESLwx0V",
        "outputId": "e4980cf4-e9bc-4053-b034-664d5f141c07"
      },
      "outputs": [
        {
          "name": "stdout",
          "output_type": "stream",
          "text": [
            "Logistic Regression Model trained successfully.\n"
          ]
        }
      ],
      "source": [
        "from sklearn.linear_model import LogisticRegression\n",
        "\n",
        "# Initialize Logistic Regression model\n",
        "# 'liblinear' solver is often good for smaller datasets\n",
        "model = LogisticRegression(random_state=42, solver='liblinear')\n",
        "\n",
        "# Training the model on the training data (X_train, y_train)\n",
        "model.fit(X_train, y_train)\n",
        "\n",
        "print(\"Logistic Regression Model trained successfully.\")"
      ]
    },
    {
      "cell_type": "code",
      "execution_count": 12,
      "metadata": {
        "colab": {
          "base_uri": "https://localhost:8080/"
        },
        "id": "IoddjcOPw22q",
        "outputId": "9ee373c5-f9fe-41c4-b192-a86f39d727e5"
      },
      "outputs": [
        {
          "name": "stdout",
          "output_type": "stream",
          "text": [
            "Predictions completed.\n",
            "First 10 predictions: [0 0 0 0 0 0 0 0 0 0]\n",
            "Actual y_test values (first 10): [0, 0, 0, 1, 1, 0, 0, 0, 0, 0]\n"
          ]
        }
      ],
      "source": [
        "# Make predictions on the X_test data using the trained model\n",
        "y_pred = model.predict(X_test)\n",
        "\n",
        "print(\"Predictions completed.\")\n",
        "print(\"First 10 predictions:\", y_pred[:10]) # Display the first 10 predictions\n",
        "print(\"Actual y_test values (first 10):\", y_test.head(10).tolist()) # Display the first 10 actual values"
      ]
    },
    {
      "cell_type": "code",
      "execution_count": 13,
      "metadata": {
        "colab": {
          "base_uri": "https://localhost:8080/"
        },
        "id": "dinwib9BxBgt",
        "outputId": "903979c2-003b-465b-b7d9-f9e2350d3fd3"
      },
      "outputs": [
        {
          "name": "stdout",
          "output_type": "stream",
          "text": [
            "Classification Report:\n",
            "              precision    recall  f1-score   support\n",
            "\n",
            "           0       0.82      0.98      0.89      5072\n",
            "           1       0.76      0.24      0.36      1445\n",
            "\n",
            "    accuracy                           0.81      6517\n",
            "   macro avg       0.79      0.61      0.63      6517\n",
            "weighted avg       0.81      0.81      0.77      6517\n",
            "\n",
            "\n",
            "ROC-AUC Score: 0.7846\n",
            "Accuracy Score: 0.8148\n"
          ]
        }
      ],
      "source": [
        "from sklearn.metrics import classification_report, roc_auc_score, accuracy_score\n",
        "\n",
        "# Print Classification Report\n",
        "# This includes Precision, Recall, and F1-Score\n",
        "print(\"Classification Report:\")\n",
        "print(classification_report(y_test, y_pred))\n",
        "\n",
        "# Calculate ROC-AUC Score\n",
        "roc_auc = roc_auc_score(y_test, model.predict_proba(X_test)[:, 1])\n",
        "print(f\"\\nROC-AUC Score: {roc_auc:.4f}\")\n",
        "\n",
        "# Check Accuracy Score (for additional information)\n",
        "accuracy = accuracy_score(y_test, y_pred)\n",
        "print(f\"Accuracy Score: {accuracy:.4f}\")"
      ]
    },
    {
      "cell_type": "code",
      "execution_count": 14,
      "metadata": {
        "colab": {
          "base_uri": "https://localhost:8080/"
        },
        "id": "eeeDCvdnxlwd",
        "outputId": "3d70a00d-4c52-44fc-8cc3-709d09180d46"
      },
      "outputs": [
        {
          "name": "stdout",
          "output_type": "stream",
          "text": [
            "--- Decision Tree Classifier ---\n",
            "Decision Tree Model trained successfully.\n",
            "\n",
            "Classification Report (Decision Tree):\n",
            "              precision    recall  f1-score   support\n",
            "\n",
            "           0       0.93      0.92      0.93      5072\n",
            "           1       0.73      0.77      0.75      1445\n",
            "\n",
            "    accuracy                           0.88      6517\n",
            "   macro avg       0.83      0.84      0.84      6517\n",
            "weighted avg       0.89      0.88      0.89      6517\n",
            "\n",
            "\n",
            "ROC-AUC Score (Decision Tree): 0.8439\n",
            "Accuracy Score (Decision Tree): 0.8845\n"
          ]
        }
      ],
      "source": [
        "from sklearn.tree import DecisionTreeClassifier\n",
        "from sklearn.metrics import classification_report, roc_auc_score, accuracy_score\n",
        "\n",
        "print(\"--- Decision Tree Classifier ---\")\n",
        "\n",
        "# Initialize Decision Tree Classifier model\n",
        "# Use random_state=42 for consistent results\n",
        "dt_model = DecisionTreeClassifier(random_state=42)\n",
        "\n",
        "# Train the model on the training data (X_train, y_train)\n",
        "dt_model.fit(X_train, y_train)\n",
        "\n",
        "print(\"Decision Tree Model trained successfully.\")\n",
        "\n",
        "# Make predictions on the X_test data\n",
        "y_pred_dt = dt_model.predict(X_test)\n",
        "\n",
        "# Evaluate the model\n",
        "print(\"\\nClassification Report (Decision Tree):\")\n",
        "print(classification_report(y_test, y_pred_dt))\n",
        "\n",
        "# Calculate ROC-AUC Score\n",
        "roc_auc_dt = roc_auc_score(y_test, dt_model.predict_proba(X_test)[:, 1])\n",
        "print(f\"\\nROC-AUC Score (Decision Tree): {roc_auc_dt:.4f}\")\n",
        "\n",
        "# Calculate Accuracy Score\n",
        "accuracy_dt = accuracy_score(y_test, y_pred_dt)\n",
        "print(f\"Accuracy Score (Decision Tree): {accuracy_dt:.4f}\")"
      ]
    },
    {
      "cell_type": "code",
      "execution_count": 15,
      "metadata": {
        "colab": {
          "base_uri": "https://localhost:8080/"
        },
        "id": "QhbJrcl_xoQR",
        "outputId": "54cb060e-4f32-4578-cf74-a89799fd0fcd"
      },
      "outputs": [
        {
          "name": "stdout",
          "output_type": "stream",
          "text": [
            "\n",
            "--- Random Forest Classifier ---\n",
            "Random Forest Model trained successfully.\n",
            "\n",
            "Classification Report (Random Forest):\n",
            "              precision    recall  f1-score   support\n",
            "\n",
            "           0       0.93      0.99      0.96      5072\n",
            "           1       0.94      0.72      0.82      1445\n",
            "\n",
            "    accuracy                           0.93      6517\n",
            "   macro avg       0.93      0.85      0.89      6517\n",
            "weighted avg       0.93      0.93      0.93      6517\n",
            "\n",
            "\n",
            "ROC-AUC Score (Random Forest): 0.9342\n",
            "Accuracy Score (Random Forest): 0.9286\n"
          ]
        }
      ],
      "source": [
        "from sklearn.ensemble import RandomForestClassifier\n",
        "from sklearn.metrics import classification_report, roc_auc_score, accuracy_score\n",
        "\n",
        "print(\"\\n--- Random Forest Classifier ---\")\n",
        "\n",
        "# Initialize Random Forest Classifier model\n",
        "# n_estimators=100 means 100 Decision Trees will be used\n",
        "rf_model = RandomForestClassifier(n_estimators=100, random_state=42)\n",
        "\n",
        "# Train the model on the training data (X_train, y_train)\n",
        "rf_model.fit(X_train, y_train)\n",
        "\n",
        "print(\"Random Forest Model trained successfully.\")\n",
        "\n",
        "# Make predictions on the X_test data\n",
        "y_pred_rf = rf_model.predict(X_test)\n",
        "\n",
        "# Evaluate the model\n",
        "print(\"\\nClassification Report (Random Forest):\")\n",
        "print(classification_report(y_test, y_pred_rf))\n",
        "\n",
        "# Calculate ROC-AUC Score\n",
        "roc_auc_rf = roc_auc_score(y_test, rf_model.predict_proba(X_test)[:, 1])\n",
        "print(f\"\\nROC-AUC Score (Random Forest): {roc_auc_rf:.4f}\")\n",
        "\n",
        "# Calculate Accuracy Score\n",
        "accuracy_rf = accuracy_score(y_test, y_pred_rf)\n",
        "print(f\"Accuracy Score (Random Forest): {accuracy_rf:.4f}\")"
      ]
    }
  ],
  "metadata": {
    "colab": {
      "provenance": []
    },
    "kernelspec": {
      "display_name": "Python 3",
      "name": "python3"
    },
    "language_info": {
      "codemirror_mode": {
        "name": "ipython",
        "version": 3
      },
      "file_extension": ".py",
      "mimetype": "text/x-python",
      "name": "python",
      "nbconvert_exporter": "python",
      "pygments_lexer": "ipython3",
      "version": "3.13.2"
    }
  },
  "nbformat": 4,
  "nbformat_minor": 0
}
